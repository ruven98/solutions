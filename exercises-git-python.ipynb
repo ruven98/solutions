{
 "cells": [
  {
   "cell_type": "markdown",
   "id": "9943fddd-4f8a-4b40-8af7-ed3c29f32ba8",
   "metadata": {},
   "source": [
    "# Exercises Unit 1: Git and Python Basics\n",
    "### Coding Fundamentals for PhD Students"
   ]
  },
  {
   "cell_type": "markdown",
   "id": "f95ee7d1-38d3-4396-86e9-c9f37a78232a",
   "metadata": {},
   "source": [
    "__Exercise 1__\n",
    "\n",
    "In order to become more familiar with Git and GitHub during the course, the goal of this exercise is to create a private repo into which you can add your solutions to the daily exercises. This way, you can run some simple `git add`, `git commit`, and `git push` commands every day after the lecture and become familiar with the syntax and system. By the end of the course you will also have a repo containing solutions to the exercise.\n",
    "\n",
    "First create a private repo e.g. called `solutions` on Github containing only a readme file and a gitignore. Then clone the repo to your computer with `git clone` (navigating to the appropriate folders with `cd`). Afterwards create a copy of this exercise notebook, rename it into `exercises-...-solutions.ipynb` (replacing ... with the topics of the current unit), and move it into the `solutions` repo folder on your computer. Re-open it with JupyterLab and write the solutions into this file. When you made some progress, you can add and commit your changes and also push this progress to the remote version of your solutions repo. Each day, you can then continue to copy the current exercise file into this repo on your computer, solve the exercises, commit your progress, and push an update to the remote GitHub repository. This will allow to study git every day of this week."
   ]
  },
  {
   "cell_type": "markdown",
   "id": "9f425548-7551-4627-99ae-ddf211d673e0",
   "metadata": {},
   "source": [
    "__Exercise 2__\n",
    "\n",
    "This exercise is intended as a brief warm-up in basic Python and as a review of some of the materials that were covered in the preliminary course and first notebook.\n",
    "\n",
    "a) Using a loop, create a new list which contains the squared values of the elements in the following list. Then use list comprehension instead to create the new list. "
   ]
  },
  {
   "cell_type": "code",
   "execution_count": 2,
   "id": "83146e22-60b7-4367-b604-929156e21fd7",
   "metadata": {},
   "outputs": [],
   "source": [
    "a = [1, 18, 2, 15, 10, 17, 24]"
   ]
  },
  {
   "cell_type": "code",
   "execution_count": 6,
   "id": "89a3afe6-d4c4-4ea5-aad9-aa62306bcd3e",
   "metadata": {},
   "outputs": [
    {
     "name": "stdout",
     "output_type": "stream",
     "text": [
      "[1, 324, 4, 225, 100, 289, 576]\n"
     ]
    }
   ],
   "source": [
    "squared = []\n",
    "for i in range(len(a)):\n",
    "    squared.append(a[i] ** 2)\n",
    "print(squared)"
   ]
  },
  {
   "cell_type": "code",
   "execution_count": 7,
   "id": "03ed177c",
   "metadata": {},
   "outputs": [
    {
     "data": {
      "text/plain": [
       "[1, 324, 4, 225, 100, 289, 576]"
      ]
     },
     "execution_count": 7,
     "metadata": {},
     "output_type": "execute_result"
    }
   ],
   "source": [
    "[num**2 for num in a]"
   ]
  },
  {
   "cell_type": "markdown",
   "id": "951d57f9-b66a-40dd-9b56-ea8edb760bfc",
   "metadata": {},
   "source": [
    "b) Write a function which swaps the first and last character of a string. Then apply this function to every element of the following list with list comprehension :"
   ]
  },
  {
   "cell_type": "code",
   "execution_count": 21,
   "id": "7e581a5f-f74c-4317-be47-2c034e41c85d",
   "metadata": {},
   "outputs": [],
   "source": [
    "b = [\"python\", \"is\", \"helpful\", \"for\", \"research\", \"across\", \"fields\"]"
   ]
  },
  {
   "cell_type": "code",
   "execution_count": 22,
   "id": "4e6bc067-8888-48e9-bd86-57336862ab67",
   "metadata": {},
   "outputs": [
    {
     "data": {
      "text/plain": [
       "['nythop', 'si', 'lelpfuh', 'rof', 'hesearcr', 'scrosa', 'sieldf']"
      ]
     },
     "execution_count": 22,
     "metadata": {},
     "output_type": "execute_result"
    }
   ],
   "source": [
    "# Your code here\n",
    "def swap(s):\n",
    "    return s[-1] + s[1:-1] + s[0]\n",
    "\n",
    "\n",
    "[swap(word) for word in b]"
   ]
  },
  {
   "cell_type": "markdown",
   "id": "ad0a1935-8eaa-4097-b5ef-ea6276e2612f",
   "metadata": {},
   "source": [
    "c) Now use another list comprehension on `b` which applies the function only if the word has at least 5 characters (no need to change your function, you can just add an if statement to the list comprehension)."
   ]
  },
  {
   "cell_type": "code",
   "execution_count": 19,
   "id": "474cde5e-b025-4f89-a143-501e2bd6ff26",
   "metadata": {},
   "outputs": [
    {
     "data": {
      "text/plain": [
       "['nythop', 'is', 'lelpfuh', 'for', 'hesearcr', 'scrosa', 'sieldf']"
      ]
     },
     "execution_count": 19,
     "metadata": {},
     "output_type": "execute_result"
    }
   ],
   "source": [
    "[swap(word) if len(word) >= 5 else word for word in b]"
   ]
  },
  {
   "cell_type": "markdown",
   "id": "27d7f265-d39e-49bd-8319-bcb8b0a5c734",
   "metadata": {},
   "source": [
    "d) Write a simple function which returns an integer that describes the number of unique elements in an input list $x$. For example, `n_unique([1, 2, 15, 7, 7])` should return 4. Hint: Think about using `set` as part of the function."
   ]
  },
  {
   "cell_type": "code",
   "execution_count": 20,
   "id": "ecd5fe3a",
   "metadata": {},
   "outputs": [],
   "source": [
    "x = [1, 2, 15, 7, 7]"
   ]
  },
  {
   "cell_type": "code",
   "execution_count": 22,
   "id": "749f140c-ecbf-4504-a3c5-fff15438c6bc",
   "metadata": {},
   "outputs": [
    {
     "data": {
      "text/plain": [
       "4"
      ]
     },
     "execution_count": 22,
     "metadata": {},
     "output_type": "execute_result"
    }
   ],
   "source": [
    "# Your code here\n",
    "def n_unique(x):\n",
    "    return len(set(x))\n",
    "\n",
    "\n",
    "n_unique(x)"
   ]
  },
  {
   "cell_type": "markdown",
   "id": "c6989dc4-d320-47db-80e6-1ef41512db65",
   "metadata": {},
   "source": [
    "e) Write a __recursive__ function which computes the nth element of the Fibonacci sequence, $0, 1, 1, 2, 3, 5, 8, 13, 21, \\dots$ (it is easier to write a recursive function for this problem than a non-recursive one)."
   ]
  },
  {
   "cell_type": "code",
   "execution_count": 24,
   "id": "33f08cab-fcba-438c-9b93-e4614f1eae8a",
   "metadata": {},
   "outputs": [
    {
     "data": {
      "text/plain": [
       "34"
      ]
     },
     "execution_count": 24,
     "metadata": {},
     "output_type": "execute_result"
    }
   ],
   "source": [
    "def fibonacci_recursive(n):\n",
    "    if n <= 1:\n",
    "        return 0\n",
    "    if n == 2:\n",
    "        return 1\n",
    "    else:\n",
    "        return fibonacci_recursive(n - 2) + fibonacci_recursive(n - 1)\n",
    "\n",
    "\n",
    "fibonacci_recursive(10)"
   ]
  },
  {
   "cell_type": "markdown",
   "id": "752591a1-6911-418e-997c-1a9afeae4e4f",
   "metadata": {},
   "source": [
    "f) Create a file `codingcoursemodule.py` containing a function called `mean(x)` which returns the mean of a input __list__ `x` containing numeric values (only use basic Python for this, no packages). Then import your module with a short name such as `ccm` and compute the mean of the following list with `ccm.mean(z)`. Optional: Also write a function `median(x)` using only basic Python."
   ]
  },
  {
   "cell_type": "code",
   "execution_count": 2,
   "id": "b15031c4-f6b0-444c-9fd8-8335bf5b22cd",
   "metadata": {},
   "outputs": [],
   "source": [
    "z = [1, 4, 100, 6, 3, 52, 7, 64, 19, 92]"
   ]
  },
  {
   "cell_type": "code",
   "execution_count": 3,
   "id": "4ab81f3e-e406-490a-a3e9-7704103608bb",
   "metadata": {},
   "outputs": [
    {
     "data": {
      "text/plain": [
       "34.8"
      ]
     },
     "execution_count": 3,
     "metadata": {},
     "output_type": "execute_result"
    }
   ],
   "source": [
    "import codingcoursemodule as ccm\n",
    "\n",
    "ccm.mean(z)"
   ]
  },
  {
   "cell_type": "code",
   "execution_count": 4,
   "id": "07e0ff38",
   "metadata": {},
   "outputs": [
    {
     "data": {
      "text/plain": [
       "13.0"
      ]
     },
     "execution_count": 4,
     "metadata": {},
     "output_type": "execute_result"
    }
   ],
   "source": [
    "ccm.median(z)"
   ]
  },
  {
   "cell_type": "markdown",
   "id": "4367b617-8841-4af8-ac39-905eeeff84d9",
   "metadata": {},
   "source": [
    "g) Create a class called `University` which takes two inputs, `name` and `founding_year`. Store both as attributes via the `__init__` method, and create three methods:\n",
    "- `get_name` which returns the name\n",
    "- `get_founding_year` which returns the founding year\n",
    "- `get_age` which returns the age of the university in years (hint: you can import the module datetime and get the current year with `datetime.datetime.now().year`).\n",
    "\n",
    "Instantiate the class for a university of your choice and compute its age with `get_age()`."
   ]
  },
  {
   "cell_type": "code",
   "execution_count": 1,
   "id": "1986fcd5-b58f-4443-8822-2dae672d08c0",
   "metadata": {},
   "outputs": [],
   "source": [
    "import datetime\n",
    "\n",
    "\n",
    "class University:\n",
    "\n",
    "    def __init__(self, name, founding_year):\n",
    "        self.name = name\n",
    "        self.founding_year = founding_year\n",
    "\n",
    "    def get_name(self):\n",
    "        return self.name\n",
    "\n",
    "    def get_founding_year(self):\n",
    "        return self.founding_year\n",
    "\n",
    "    def get_age(self):\n",
    "        return datetime.datetime.now().year - self.founding_year"
   ]
  },
  {
   "cell_type": "code",
   "execution_count": 2,
   "id": "09b98716",
   "metadata": {},
   "outputs": [
    {
     "data": {
      "text/plain": [
       "359"
      ]
     },
     "execution_count": 2,
     "metadata": {},
     "output_type": "execute_result"
    }
   ],
   "source": [
    "my_university = University(\"CAU\", 1665)\n",
    "my_university.get_age()"
   ]
  },
  {
   "cell_type": "markdown",
   "id": "93956ed1-d236-4db3-b612-70d3c72abf7f",
   "metadata": {},
   "source": [
    "__Exercise 3 (optional)__\n",
    "\n",
    "Often developers use __code formatters__ to standardise the appearance of code. A popular option is the formatter [Black](https://black.readthedocs.io/en/stable/). This exercise is a quick guide on how to install and use Black in VS Code. First activate your environment in Terminal or Anaconda Prompt with `conda activate codingcourse`, then install black with `conda install -c conda-forge black`.\n",
    "\n",
    "Afterwards, open a Jupyter notebook in VS Code and connect the editor to the codingcourse environment (via the \"Select Kernel\" on upper right hand side if it is not already connected). Next, via the Extensions menu, install the \"Black Formatter\" extension (the one of the options that was created by Microsoft). Once the extension is installed, click into a code cell of the notebook, press \"ctrl/cmd\" + \"shift\" + \"p\" and type \"Format Document With...\" and click on it, then click on \"Configure Default Formatter...\", and then on \"Black Formatter\". Now right clicking into a code cell of your notebook and selecting \"Format Notebook\" should format it with Black. If you would like to format .py files and notebooks whenever you save the file, go to settings with \"ctrl/cmd\" + \",\", type \"editor format on save\" into the \"Search settings\" bar, and then select the associated box. Afterwards also type \"notebook format on save\" and again select the associated box.\n",
    "\n",
    "<br>\n",
    "\n",
    "__Exercise 4 (optional)__ \n",
    "\n",
    "This exercise is optional as well, but particularly if you would like to work on code via GitHub, have a look at part a) some time. In the lecture, we have already discussed simple commits, branches, merging, and merge conflicts via the command line. Here we will review how to do merges via pull requests on GitHub and how branching can be used to revert to previous versions of code (e.g. if something went wrong). In particular pull requests are a central feature of GitHub, so it is good to have an idea how they work. When developers e.g. have created a new feature of a software on a branch or fork, they start a pull request to discuss the changes with others, and try to merge their code into the main version of the code. This is why on a typical open source software repository you will see many pull requests that people started who have worked on the code and would like to merge their changes into the main version.\n",
    "\n",
    "\n",
    "a) In the lecture we have created and merged branches locally. How can we track local branches also on GitHub, and how can we alternatively merge branches via GitHub pull requests? First, in `firstrepository`, push the changes on the main branch that resulted from the merge in the lecture also to the remote repository with `git push`. To record the new development branch from the lecture also on GitHub, checkout to the development branch with `git checkout development` in the repo on your computer. Then push the development branch also to the remote repository with `git push --set-upstream origin development`. Now add another new line to the code on the development branch, stage and commit the changes, and then run `git push`. Next, go to the GitHub website which should now display a green button \"Compare & pull request\" which allows to merge the newest changes on development into main via the website. Create a pull request by clicking on this button and follow the resulting steps: Leave a message describing the changes and then merge the pull request. Note that before merging you can also see changes in the code side-by-side with the old code. Merge conflicts will be checked automatically and can be resolved on the way editing the files in the browser. If back in the command line you now switch to the main branch again and run `git pull`, your local repository will also have been updated. If you deleted a branch on GitHub (e.g. after merging), you can also delete it locally via `git branch -d branchname`.\n",
    "\n",
    "We have now done a merge via the GitHub website. Similarly, we can create new branches or files, change existing files, upload files (all implictly tracked as commits), etc. also via the graphical user interface of the website. The command line interface is a very flexible and fast way to use Git, but the GitHub website's graphical interface is of course convenient e.g. for merging since it can show the different versions of code side by side. Many users combine both approaches or substitute them with other software such as e.g. VS Code's Git integration (more later in the course when we had some time to study the fundamentals of Git via the command line).\n",
    "\n",
    "b) If Git is a VCS, a fundamental property should be the option to revert back to past versions. With the knowledge of branching, this is easy understand. Navigate to the folder `firstrepository` from the lecture with `cd` in Terminal or Git bash.  First, make sure for now that you are on the main branch with `git branch` and if not, go there with `git checkout main`. If you run the command `git log` afterwards, you will see a list of all commits on the main branch, each being identified by a long string next to the word commit, the so called commit hash. Copy an older one of these hashes and go back to this version of the code with `git checkout ...` (replacing ... with the pasted commit hash). The use of `checkout` already suggests that what just happened also has something to do with branches. Run `git branch` to see on which branch you are afterwards and in fact, you are not on the master branch anymore, but on a temporary kind of branch that lets you explore the old version of the code. You will see this when you look at the .py file and it contains fewer lines. If you want to go back to the newest version of the code, just type in `git checkout main`, if you want to go to another time stamp, just type `git checkout ...` with another commit hash. If you instead would like to turn an old commit into a permanent branch to restart from there , you can first go to the commit with `git checkout ...` (replacing ... with the pasted commit hash) and  then make it a permenant branch with `git checkout -b somename`. What this does is that it just turns an old version of the code into a permanent branch to which you can switch without impacting the latest main code. You can always go back again to the latest version of the main code with `git checkout main`.\n",
    "\n",
    "The approach with `git checkout` is flexible as in that without specifying a branch it simply allows to look at old versions of the code and with specifying a branch it allows to restore them without impacting the current main version. Yet, if you would like to simply revert changes on the main branch and are fine with changing the current main branch code with a new commit through doing that, you can use `git revert ...` (again replacing ... with the pasted commit hash). This will ask for a commit message and hence restore the old code version but now as the most current commit."
   ]
  }
 ],
 "metadata": {
  "kernelspec": {
   "display_name": "Python 3.10.4 ('pythoncourse')",
   "language": "python",
   "name": "python3"
  },
  "language_info": {
   "codemirror_mode": {
    "name": "ipython",
    "version": 3
   },
   "file_extension": ".py",
   "mimetype": "text/x-python",
   "name": "python",
   "nbconvert_exporter": "python",
   "pygments_lexer": "ipython3",
   "version": "3.12.5"
  },
  "vscode": {
   "interpreter": {
    "hash": "091253bf0504da5a79b0a474957fe37899d82daf31a6e57fd1281ad0cdea3b11"
   }
  }
 },
 "nbformat": 4,
 "nbformat_minor": 5
}
