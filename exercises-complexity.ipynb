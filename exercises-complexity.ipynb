{
 "cells": [
  {
   "cell_type": "markdown",
   "id": "9943fddd-4f8a-4b40-8af7-ed3c29f32ba8",
   "metadata": {},
   "source": [
    "# Exercises Unit 2: Computational Complexity\n",
    "### Coding Fundamentals for PhD Students"
   ]
  },
  {
   "cell_type": "markdown",
   "id": "f95ee7d1-38d3-4396-86e9-c9f37a78232a",
   "metadata": {},
   "source": [
    "__Exercise 1__\n",
    "\n",
    "What are the __best case__ and __worst case__ number of steps of the following programmes? What their $O$?\n",
    "\n",
    "a)"
   ]
  },
  {
   "cell_type": "code",
   "execution_count": null,
   "id": "1b1b85d8",
   "metadata": {},
   "outputs": [],
   "source": [
    "def programme_a(n):\n",
    "    \"\"\"n: integer >= 0\"\"\"\n",
    "    outcome = 0\n",
    "    for i in range(50):\n",
    "        y = 1\n",
    "\n",
    "    while n > 0:\n",
    "        n -= 1\n",
    "        outcome += n\n",
    "\n",
    "    for a in range(n):\n",
    "        for b in range(n):\n",
    "            for c in range(n):\n",
    "                outcome += 1\n",
    "\n",
    "    return outcome"
   ]
  },
  {
   "cell_type": "markdown",
   "id": "e76504d7",
   "metadata": {},
   "source": [
    "Your answer: 1 + 2 * 50 + 5*n + 1 + n^3 + 1 -> O(n^3) "
   ]
  },
  {
   "cell_type": "markdown",
   "id": "bb3e4104",
   "metadata": {},
   "source": [
    "b)"
   ]
  },
  {
   "cell_type": "code",
   "execution_count": null,
   "id": "2f3516bf",
   "metadata": {},
   "outputs": [],
   "source": [
    "def programme_b(n):\n",
    "    \"\"\"n: integer >= 0\"\"\"\n",
    "    outcome = 0\n",
    "    for i in range(50):\n",
    "        y = 1\n",
    "\n",
    "    while n > 0:\n",
    "        n = n // 2\n",
    "        outcome += n\n",
    "\n",
    "    return outcome"
   ]
  },
  {
   "cell_type": "markdown",
   "id": "fbf5a1cd",
   "metadata": {},
   "source": [
    "Your answer: 1 + 2 * 50 + 5*n + 1 + 1"
   ]
  },
  {
   "cell_type": "markdown",
   "id": "c3728119",
   "metadata": {},
   "source": [
    "__Exercise 2__\n",
    "\n",
    "Reconsider your function from the previous unit that computes the nth element of the Fibonacci sequence. What is its time complexity?"
   ]
  },
  {
   "cell_type": "markdown",
   "metadata": {},
   "source": [
    "Your answer: 2**n"
   ]
  },
  {
   "cell_type": "markdown",
   "id": "9f425548-7551-4627-99ae-ddf211d673e0",
   "metadata": {},
   "source": [
    "__Exercise 3__\n",
    "\n",
    "Matrix multiplication is an essential part of many econometrics and machine learning methods. The following code shows a simple algorithm for matrix multiplication of two $N\\times N$ matrices. Review the function, fill in the blanks (_), and determine the time complexity.\n",
    "\n",
    "A bit of history on the topic: Volker Strassen published an algorithm in 1969 that proved that this general matrix multiplication algorithm was not optimal, his algorithm achieved $\\approx O(n^{2.807})$. The optimal complexity in fact remains unknown, but as of April 2024 the best announced bound on the asymptotic complexity of a matrix multiplication algorithm is $O(n^{2.371552})$, by Williams, Xu, Xu, and Zhou. Yet, this and similar improvements to Strassen are not typically used in practice, because they are so-called galactic algorithms: the constant coefficient hidden by the big O notation is so large that they are only worthwhile for matrices that are too large to handle on standard present-day computers (From: https://en.wikipedia.org/wiki/Computational_complexity_of_matrix_multiplication)"
   ]
  },
  {
   "cell_type": "code",
   "execution_count": null,
   "id": "83146e22-60b7-4367-b604-929156e21fd7",
   "metadata": {},
   "outputs": [],
   "source": [
    "def simple_matrix_multiplication(A, B):\n",
    "    \"\"\"Simple matrix multiplication for NxN matrices of the form C=AB\"\"\"\n",
    "\n",
    "    n = len(A)\n",
    "    C = [\n",
    "        [0 for _ in range(n)] for _ in range(n)\n",
    "    ]  # simply creates a zero matrix as a list of lists, e.g. [[0,0],[0,0]] for 2x2\n",
    "    for i in range(n):\n",
    "        for j in range(n):\n",
    "            for k in range(n):\n",
    "                C[_][_] += A[i][k] * B[k][j]\n",
    "    return C"
   ]
  },
  {
   "cell_type": "markdown",
   "id": "32cbb425",
   "metadata": {},
   "source": [
    "__Concluding remarks__\n",
    "\n",
    "Does this all matter today given that computers are so fast? You could try to compute only say the 120th elements of the Fibonacci sequence with `fibonacci_recursive(120)` from the previous exercise, but will eventually need to terminate the notebook. In contrast, the iterative implementation for computing the nth element of the series has time complexity in just $O(n)$ and is very fast.\n",
    "\n",
    "Understanding some basics of computational complexity theory can help to spot slow patterns in code as a researcher and think about some ways to potentially change them if possible. Yet, beyond the basics we covered here, the field has significant relevance for societies.\n",
    "\n",
    "For example, the [RSA](https://en.wikipedia.org/wiki/RSA_(cryptosystem)) (Rivest–Shamir–Adleman) system is widely used to secure data transmission. A user identifies with a publically known number $k$ (called a public key) which is the product of two very large prime numbers (these two prime numbers, however, are only known to the user and are called the private key). Messages to the user are encrypted using $k$ (which is publically known), but can only be read by a person who knows the two prime numbers behind $k$.\n",
    "\n",
    "Note how this setup has two very specific properties:\n",
    "\n",
    "- It is easy to check for every candidate pair of prime numbers whether they indeed multiply to $k$ or not (one just has to multiply them)\n",
    "- Yet, there is no (known) algorithm which can do the reverse, i.e. figure out the two prime numbers behind $k$, in polynomial time (see the lecture slides for a definition of polynomial time).<a name=\"footnote1\"></a>[<sup>[1]</sup>](#cite_note-1) Existing algorithms require a prohibitively long time to run for large prime numbers.\n",
    "\n",
    "Could there be an algorithm that manages to find the two primes in polynomial time? This is what is called the PvsNP problem. If there was such an algorithm, it would break among other things the RSA system. [PvsNP](https://en.wikipedia.org/wiki/P_versus_NP_problem) is one of the most important unsolved problems in mathematics and computer science and carries a US$1,000,000 [prize](https://en.wikipedia.org/wiki/Millennium_Prize_Problems) for the first correct solution. \n",
    "\n",
    "A great non-technical summary and discussion of the PvsNP problem is in this [In Our Time podcast](https://www.bbc.co.uk/programmes/b06mtms8). For a short summary of the different complexity classes before listening to the podcast, e.g. check out the answer to this [post](https://stackoverflow.com/questions/1857244/what-are-the-differences-between-np-np-complete-and-np-hard). \n",
    "\n",
    "<a name=\"footnote1\"></a>[<sup>[1]</sup>](#cite_ref-1): To be more precise, there is no known polynomial time algorithm _on a deterministic Turing machine_. This is beyond the scope of our course, but further information on deterministic (can take only a single action at each step) and nondeterministic (can explore multiple actions at each step) Turing machines is linked [here](https://en.wikipedia.org/wiki/Turing_machine) and [here](https://en.wikipedia.org/wiki/Nondeterministic_Turing_machine).\n"
   ]
  }
 ],
 "metadata": {
  "kernelspec": {
   "display_name": "Python 3.10.4 ('pythoncourse')",
   "language": "python",
   "name": "python3"
  },
  "language_info": {
   "codemirror_mode": {
    "name": "ipython",
    "version": 3
   },
   "file_extension": ".py",
   "mimetype": "text/x-python",
   "name": "python",
   "nbconvert_exporter": "python",
   "pygments_lexer": "ipython3",
   "version": "3.12.5"
  },
  "vscode": {
   "interpreter": {
    "hash": "091253bf0504da5a79b0a474957fe37899d82daf31a6e57fd1281ad0cdea3b11"
   }
  }
 },
 "nbformat": 4,
 "nbformat_minor": 5
}
