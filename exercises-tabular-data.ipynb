{
 "cells": [
  {
   "cell_type": "markdown",
   "id": "f443a0c1-86b6-419c-b643-99f7db47e7a3",
   "metadata": {},
   "source": [
    "# Exercises Unit 3: Tabular Data\n",
    "### Coding Fundamentals for PhD Students"
   ]
  },
  {
   "cell_type": "markdown",
   "id": "8512bc50-7074-4c13-a93a-5180e8c1a28c",
   "metadata": {},
   "source": [
    "__Exercise 1__"
   ]
  },
  {
   "cell_type": "markdown",
   "id": "27b91458-44e0-486c-94f2-6b77818caff2",
   "metadata": {},
   "source": [
    "Load the `ip.csv` dataset from the lecture and repeat the code to transform it into a long format. Then set the date column to be the index (hint: have a look at `df.set_index(\"somecolumnname\")`).\n",
    "\n",
    "a) Select the 1st of April 2019 and the 1st of April 2020 for all countries using `loc` (dates should now be in the row index)."
   ]
  },
  {
   "cell_type": "code",
   "execution_count": 1,
   "id": "662dc7ad",
   "metadata": {},
   "outputs": [],
   "source": [
    "import numpy as np\n",
    "import pandas as pd"
   ]
  },
  {
   "cell_type": "code",
   "execution_count": 2,
   "id": "91321338-d03d-46f2-bc95-7daf2bacfdab",
   "metadata": {},
   "outputs": [],
   "source": [
    "# Load the data\n",
    "df1_original = pd.read_csv(\"data/tabular_data/ip.csv\")\n",
    "\n",
    "# Reshape wide to long\n",
    "df1 = df1_original.melt(\n",
    "    id_vars=[\"country\"],\n",
    "    value_vars=df1_original.columns[1:],\n",
    "    var_name=\"date\",\n",
    "    value_name=\"ip\",\n",
    ")\n",
    "\n",
    "# Transform resulting date to datetime and sort according to country and date\n",
    "df1[\"date\"] = pd.to_datetime(df1[\"date\"], format=\"%d.%m.%Y\")\n",
    "df1 = df1.sort_values(by=[\"country\", \"date\"])\n",
    "df1 = df1.set_index(\"date\")"
   ]
  },
  {
   "cell_type": "code",
   "execution_count": 3,
   "id": "4d702deb",
   "metadata": {},
   "outputs": [
    {
     "data": {
      "text/html": [
       "<div>\n",
       "<style scoped>\n",
       "    .dataframe tbody tr th:only-of-type {\n",
       "        vertical-align: middle;\n",
       "    }\n",
       "\n",
       "    .dataframe tbody tr th {\n",
       "        vertical-align: top;\n",
       "    }\n",
       "\n",
       "    .dataframe thead th {\n",
       "        text-align: right;\n",
       "    }\n",
       "</style>\n",
       "<table border=\"1\" class=\"dataframe\">\n",
       "  <thead>\n",
       "    <tr style=\"text-align: right;\">\n",
       "      <th></th>\n",
       "      <th>country</th>\n",
       "      <th>ip</th>\n",
       "    </tr>\n",
       "    <tr>\n",
       "      <th>date</th>\n",
       "      <th></th>\n",
       "      <th></th>\n",
       "    </tr>\n",
       "  </thead>\n",
       "  <tbody>\n",
       "    <tr>\n",
       "      <th>2019-04-01</th>\n",
       "      <td>france</td>\n",
       "      <td>0.52124</td>\n",
       "    </tr>\n",
       "    <tr>\n",
       "      <th>2019-04-01</th>\n",
       "      <td>germany</td>\n",
       "      <td>-2.58373</td>\n",
       "    </tr>\n",
       "    <tr>\n",
       "      <th>2019-04-01</th>\n",
       "      <td>italy</td>\n",
       "      <td>-0.75614</td>\n",
       "    </tr>\n",
       "    <tr>\n",
       "      <th>2019-04-01</th>\n",
       "      <td>spain</td>\n",
       "      <td>1.57392</td>\n",
       "    </tr>\n",
       "    <tr>\n",
       "      <th>2019-04-01</th>\n",
       "      <td>uk</td>\n",
       "      <td>-3.08582</td>\n",
       "    </tr>\n",
       "    <tr>\n",
       "      <th>2019-04-01</th>\n",
       "      <td>us</td>\n",
       "      <td>-0.63119</td>\n",
       "    </tr>\n",
       "    <tr>\n",
       "      <th>2020-04-01</th>\n",
       "      <td>france</td>\n",
       "      <td>-20.60136</td>\n",
       "    </tr>\n",
       "    <tr>\n",
       "      <th>2020-04-01</th>\n",
       "      <td>germany</td>\n",
       "      <td>-21.17517</td>\n",
       "    </tr>\n",
       "    <tr>\n",
       "      <th>2020-04-01</th>\n",
       "      <td>italy</td>\n",
       "      <td>-20.48193</td>\n",
       "    </tr>\n",
       "    <tr>\n",
       "      <th>2020-04-01</th>\n",
       "      <td>spain</td>\n",
       "      <td>-22.10104</td>\n",
       "    </tr>\n",
       "    <tr>\n",
       "      <th>2020-04-01</th>\n",
       "      <td>uk</td>\n",
       "      <td>-20.41667</td>\n",
       "    </tr>\n",
       "    <tr>\n",
       "      <th>2020-04-01</th>\n",
       "      <td>us</td>\n",
       "      <td>-12.92942</td>\n",
       "    </tr>\n",
       "  </tbody>\n",
       "</table>\n",
       "</div>"
      ],
      "text/plain": [
       "            country        ip\n",
       "date                         \n",
       "2019-04-01   france   0.52124\n",
       "2019-04-01  germany  -2.58373\n",
       "2019-04-01    italy  -0.75614\n",
       "2019-04-01    spain   1.57392\n",
       "2019-04-01       uk  -3.08582\n",
       "2019-04-01       us  -0.63119\n",
       "2020-04-01   france -20.60136\n",
       "2020-04-01  germany -21.17517\n",
       "2020-04-01    italy -20.48193\n",
       "2020-04-01    spain -22.10104\n",
       "2020-04-01       uk -20.41667\n",
       "2020-04-01       us -12.92942"
      ]
     },
     "execution_count": 3,
     "metadata": {},
     "output_type": "execute_result"
    }
   ],
   "source": [
    "df1.loc[[\"2019-04-01\", \"2020-04-01\"]]"
   ]
  },
  {
   "cell_type": "markdown",
   "id": "dbf09c92-131b-4f15-a81a-ccd0d1d4befc",
   "metadata": {},
   "source": [
    "b) Add another column to the data frame called `ip_av` in which you store the absolute value, i.e. $|x|$, of the column `ip`."
   ]
  },
  {
   "cell_type": "code",
   "execution_count": 86,
   "id": "2590e246-87f8-45da-9763-69ccb67ec896",
   "metadata": {},
   "outputs": [],
   "source": [
    "df1[\"ip_av\"] = df1[\"ip\"].abs()"
   ]
  },
  {
   "cell_type": "markdown",
   "id": "a16a5749-127c-420e-af5a-85c7447c4bc2",
   "metadata": {},
   "source": [
    "c) Add a second column to the data frame called `ip_pos` and store only those values in it where the percentage change in industrial production `ip` is positive (the column `ip_pos` will contain NA values for all observations with negative percentage changes in industrial production)."
   ]
  },
  {
   "cell_type": "code",
   "execution_count": 87,
   "id": "2064fc45-9ee4-4b6c-9afc-ee07c8fdf074",
   "metadata": {},
   "outputs": [],
   "source": [
    "df1[\"ip_pos\"] = df1[\"ip\"].apply(lambda x: x if x > 0 else None)"
   ]
  },
  {
   "cell_type": "code",
   "execution_count": 88,
   "id": "fda68ca4",
   "metadata": {},
   "outputs": [
    {
     "data": {
      "text/html": [
       "<div>\n",
       "<style scoped>\n",
       "    .dataframe tbody tr th:only-of-type {\n",
       "        vertical-align: middle;\n",
       "    }\n",
       "\n",
       "    .dataframe tbody tr th {\n",
       "        vertical-align: top;\n",
       "    }\n",
       "\n",
       "    .dataframe thead th {\n",
       "        text-align: right;\n",
       "    }\n",
       "</style>\n",
       "<table border=\"1\" class=\"dataframe\">\n",
       "  <thead>\n",
       "    <tr style=\"text-align: right;\">\n",
       "      <th></th>\n",
       "      <th>country</th>\n",
       "      <th>ip</th>\n",
       "      <th>ip_av</th>\n",
       "      <th>ip_pos</th>\n",
       "    </tr>\n",
       "    <tr>\n",
       "      <th>date</th>\n",
       "      <th></th>\n",
       "      <th></th>\n",
       "      <th></th>\n",
       "      <th></th>\n",
       "    </tr>\n",
       "  </thead>\n",
       "  <tbody>\n",
       "    <tr>\n",
       "      <th>2019-01-01</th>\n",
       "      <td>france</td>\n",
       "      <td>0.97331</td>\n",
       "      <td>0.97331</td>\n",
       "      <td>0.97331</td>\n",
       "    </tr>\n",
       "    <tr>\n",
       "      <th>2019-02-01</th>\n",
       "      <td>france</td>\n",
       "      <td>-0.49628</td>\n",
       "      <td>0.49628</td>\n",
       "      <td>NaN</td>\n",
       "    </tr>\n",
       "    <tr>\n",
       "      <th>2019-03-01</th>\n",
       "      <td>france</td>\n",
       "      <td>-0.63303</td>\n",
       "      <td>0.63303</td>\n",
       "      <td>NaN</td>\n",
       "    </tr>\n",
       "    <tr>\n",
       "      <th>2019-04-01</th>\n",
       "      <td>france</td>\n",
       "      <td>0.52124</td>\n",
       "      <td>0.52124</td>\n",
       "      <td>0.52124</td>\n",
       "    </tr>\n",
       "    <tr>\n",
       "      <th>2019-05-01</th>\n",
       "      <td>france</td>\n",
       "      <td>1.64202</td>\n",
       "      <td>1.64202</td>\n",
       "      <td>1.64202</td>\n",
       "    </tr>\n",
       "  </tbody>\n",
       "</table>\n",
       "</div>"
      ],
      "text/plain": [
       "           country       ip    ip_av   ip_pos\n",
       "date                                         \n",
       "2019-01-01  france  0.97331  0.97331  0.97331\n",
       "2019-02-01  france -0.49628  0.49628      NaN\n",
       "2019-03-01  france -0.63303  0.63303      NaN\n",
       "2019-04-01  france  0.52124  0.52124  0.52124\n",
       "2019-05-01  france  1.64202  1.64202  1.64202"
      ]
     },
     "execution_count": 88,
     "metadata": {},
     "output_type": "execute_result"
    }
   ],
   "source": [
    "df1.head()"
   ]
  },
  {
   "cell_type": "markdown",
   "id": "e979ae53-17fb-4738-b0e1-1f157e3235d1",
   "metadata": {},
   "source": [
    "d) Compute the mean change in industrial production for each country."
   ]
  },
  {
   "cell_type": "code",
   "execution_count": 92,
   "id": "32343901",
   "metadata": {},
   "outputs": [
    {
     "data": {
      "text/html": [
       "<div>\n",
       "<style scoped>\n",
       "    .dataframe tbody tr th:only-of-type {\n",
       "        vertical-align: middle;\n",
       "    }\n",
       "\n",
       "    .dataframe tbody tr th {\n",
       "        vertical-align: top;\n",
       "    }\n",
       "\n",
       "    .dataframe thead th {\n",
       "        text-align: right;\n",
       "    }\n",
       "</style>\n",
       "<table border=\"1\" class=\"dataframe\">\n",
       "  <thead>\n",
       "    <tr style=\"text-align: right;\">\n",
       "      <th></th>\n",
       "      <th>ip</th>\n",
       "    </tr>\n",
       "    <tr>\n",
       "      <th>country</th>\n",
       "      <th></th>\n",
       "    </tr>\n",
       "  </thead>\n",
       "  <tbody>\n",
       "    <tr>\n",
       "      <th>france</th>\n",
       "      <td>-0.336408</td>\n",
       "    </tr>\n",
       "    <tr>\n",
       "      <th>germany</th>\n",
       "      <td>-0.800372</td>\n",
       "    </tr>\n",
       "    <tr>\n",
       "      <th>italy</th>\n",
       "      <td>0.006012</td>\n",
       "    </tr>\n",
       "    <tr>\n",
       "      <th>spain</th>\n",
       "      <td>-0.363430</td>\n",
       "    </tr>\n",
       "    <tr>\n",
       "      <th>uk</th>\n",
       "      <td>-0.577619</td>\n",
       "    </tr>\n",
       "    <tr>\n",
       "      <th>us</th>\n",
       "      <td>-0.370198</td>\n",
       "    </tr>\n",
       "  </tbody>\n",
       "</table>\n",
       "</div>"
      ],
      "text/plain": [
       "               ip\n",
       "country          \n",
       "france  -0.336408\n",
       "germany -0.800372\n",
       "italy    0.006012\n",
       "spain   -0.363430\n",
       "uk      -0.577619\n",
       "us      -0.370198"
      ]
     },
     "execution_count": 92,
     "metadata": {},
     "output_type": "execute_result"
    }
   ],
   "source": [
    "df1[[\"country\", \"ip\"]].groupby(\"country\").apply(\"mean\")"
   ]
  },
  {
   "cell_type": "markdown",
   "id": "321af602-d459-4f81-b986-6e08eae394f2",
   "metadata": {},
   "source": [
    "e) Add a third column `ip_demeaned` which subtracts the mean change in industrial production of each country from its values."
   ]
  },
  {
   "cell_type": "code",
   "execution_count": 94,
   "id": "32f25f4d-1f41-4402-90de-582bfe49ae37",
   "metadata": {},
   "outputs": [],
   "source": [
    "df1[\"ip_demeaned\"] = df1[\"ip\"] - df1.groupby(\"country\")[\"ip\"].transform(\"mean\")"
   ]
  },
  {
   "cell_type": "code",
   "execution_count": 80,
   "id": "eecf5012",
   "metadata": {},
   "outputs": [
    {
     "data": {
      "text/html": [
       "<div>\n",
       "<style scoped>\n",
       "    .dataframe tbody tr th:only-of-type {\n",
       "        vertical-align: middle;\n",
       "    }\n",
       "\n",
       "    .dataframe tbody tr th {\n",
       "        vertical-align: top;\n",
       "    }\n",
       "\n",
       "    .dataframe thead th {\n",
       "        text-align: right;\n",
       "    }\n",
       "</style>\n",
       "<table border=\"1\" class=\"dataframe\">\n",
       "  <thead>\n",
       "    <tr style=\"text-align: right;\">\n",
       "      <th></th>\n",
       "      <th>country</th>\n",
       "      <th>ip</th>\n",
       "      <th>ip_av</th>\n",
       "      <th>ip_pos</th>\n",
       "      <th>ip_demeaned</th>\n",
       "    </tr>\n",
       "    <tr>\n",
       "      <th>date</th>\n",
       "      <th></th>\n",
       "      <th></th>\n",
       "      <th></th>\n",
       "      <th></th>\n",
       "      <th></th>\n",
       "    </tr>\n",
       "  </thead>\n",
       "  <tbody>\n",
       "    <tr>\n",
       "      <th>2019-01-01</th>\n",
       "      <td>france</td>\n",
       "      <td>0.97331</td>\n",
       "      <td>0.97331</td>\n",
       "      <td>0.97331</td>\n",
       "      <td>1.309718</td>\n",
       "    </tr>\n",
       "    <tr>\n",
       "      <th>2019-02-01</th>\n",
       "      <td>france</td>\n",
       "      <td>-0.49628</td>\n",
       "      <td>0.49628</td>\n",
       "      <td>NaN</td>\n",
       "      <td>-0.159872</td>\n",
       "    </tr>\n",
       "    <tr>\n",
       "      <th>2019-03-01</th>\n",
       "      <td>france</td>\n",
       "      <td>-0.63303</td>\n",
       "      <td>0.63303</td>\n",
       "      <td>NaN</td>\n",
       "      <td>-0.296622</td>\n",
       "    </tr>\n",
       "    <tr>\n",
       "      <th>2019-04-01</th>\n",
       "      <td>france</td>\n",
       "      <td>0.52124</td>\n",
       "      <td>0.52124</td>\n",
       "      <td>0.52124</td>\n",
       "      <td>0.857648</td>\n",
       "    </tr>\n",
       "    <tr>\n",
       "      <th>2019-05-01</th>\n",
       "      <td>france</td>\n",
       "      <td>1.64202</td>\n",
       "      <td>1.64202</td>\n",
       "      <td>1.64202</td>\n",
       "      <td>1.978428</td>\n",
       "    </tr>\n",
       "  </tbody>\n",
       "</table>\n",
       "</div>"
      ],
      "text/plain": [
       "           country       ip    ip_av   ip_pos  ip_demeaned\n",
       "date                                                      \n",
       "2019-01-01  france  0.97331  0.97331  0.97331     1.309718\n",
       "2019-02-01  france -0.49628  0.49628      NaN    -0.159872\n",
       "2019-03-01  france -0.63303  0.63303      NaN    -0.296622\n",
       "2019-04-01  france  0.52124  0.52124  0.52124     0.857648\n",
       "2019-05-01  france  1.64202  1.64202  1.64202     1.978428"
      ]
     },
     "execution_count": 80,
     "metadata": {},
     "output_type": "execute_result"
    }
   ],
   "source": [
    "df1.head()"
   ]
  },
  {
   "cell_type": "markdown",
   "id": "f656572e-34ec-4f12-b9b0-942684f89e64",
   "metadata": {},
   "source": [
    "__Exercise 2__\n",
    "\n",
    "Read some data from your research into Python with pandas using functions such as `pd.read_csv` or `pd.read_stata` (for many further options such `pd.read_excel`, see the following part of the library's [documentation](https://pandas.pydata.org/docs/reference/io.html)).\n",
    "\n",
    "Try to replicate some data cleaning, transformation, or summary statistic that you had previously computed with another software. What seems easier, what more difficult in pandas?"
   ]
  },
  {
   "cell_type": "code",
   "execution_count": null,
   "id": "ab49049f-450a-4aac-8eea-edba71ff4d64",
   "metadata": {},
   "outputs": [],
   "source": [
    "# Your code here"
   ]
  }
 ],
 "metadata": {
  "kernelspec": {
   "display_name": "Python 3 (ipykernel)",
   "language": "python",
   "name": "python3"
  },
  "language_info": {
   "codemirror_mode": {
    "name": "ipython",
    "version": 3
   },
   "file_extension": ".py",
   "mimetype": "text/x-python",
   "name": "python",
   "nbconvert_exporter": "python",
   "pygments_lexer": "ipython3",
   "version": "3.12.5"
  },
  "vscode": {
   "interpreter": {
    "hash": "091253bf0504da5a79b0a474957fe37899d82daf31a6e57fd1281ad0cdea3b11"
   }
  }
 },
 "nbformat": 4,
 "nbformat_minor": 5
}
